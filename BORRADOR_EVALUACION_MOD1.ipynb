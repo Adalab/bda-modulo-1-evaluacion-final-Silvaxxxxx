{
 "cells": [
  {
   "cell_type": "markdown",
   "id": "c9af81b5",
   "metadata": {},
   "source": [
    "### Crear una clase llamada TiendaOnline que cumpla los siguientes requisitos:\n"
   ]
  },
  {
   "cell_type": "markdown",
   "id": "5077f932",
   "metadata": {},
   "source": [
    "#### 1. La clase TiendaOnline debe tener los siguientes atributos:\n",
    "- inventario (lista de diccionarios): Un atributo para almacenar los productos en el inventario.\n",
    "- Cada producto debe ser representado como un diccionario con las siguientes claves:\n",
    "  'nombre', 'precio', y 'cantidad'. Al principio deberá ser una lista vacía.\n",
    "- Ventas_totales (float): Un atributo para llevar un registro de las ventas totales de la tienda.\n",
    "  Inicializado con valor 0."
   ]
  },
  {
   "cell_type": "code",
   "execution_count": 6,
   "id": "be1404d3",
   "metadata": {},
   "outputs": [],
   "source": [
    "class TiendaOnline:  #  creo que la clase \n",
    "\n",
    "    def __init__(self):\n",
    "\n",
    "        self.inventario = [] # lista vacía para almacenar los productos (diccionario)\n",
    "        self.producto = [{}] # lista vacía que contiene el diccionario (de momento vacía)\n",
    "        self.ventas_totales = 0.0  # parámetro que marca las ventas como un flotat (0.0 por defecto)\n",
    "    \n",
    "    def agregar_producto(self, nombre, precio, cantidad):\n",
    "\n",
    "        for producto in self.inventario: # busco el producto en el inventario con bucle for\n",
    "            if producto['nombre'].lower() == nombre.lower(): # un poquito de programación defensiva para mayusculas y minusculas!\n",
    "                 producto['cantidad'] += cantidad  # si el producto está que añada la cantidad 'x'\n",
    "                 print(f\"Producto '{nombre}' actualizado. Cantidad nueva: {producto['cantidad']}\") # aqui muestra el producto actualizado \n",
    "                 return  # un return para que se detenga aqui y podamos acceder al valor después \n",
    "            \n",
    "        else: # si no está en el inventario\n",
    "            nuevo_producto = {'nombre': nombre,'precio': precio,'cantidad': cantidad} # añado la variable nuevo_producto con el diccionario génerico\n",
    "            self.inventario.append(nuevo_producto) # añadimos el producto nuevo al inventario\n",
    "            print(f\"Producto '{nombre}' agregado al inventario\") # muestra el producto añadido\n",
    "            return # paro el código y (posibilidad de acceder al valor¿?)\n",
    "\n",
    "    def ver_inventario(self): \n",
    "\n",
    "        for producto in self.inventario:\n",
    "            print(f\"Nombre: {producto['nombre']}, Precio: {producto['precio']} EUR, Cantidad: {producto['cantidad']}\")  \n",
    "\n",
    "    # creo la función buscar_producto\n",
    "\n",
    "    def buscar_producto(self,nombre): # añado el pasillito (self) y el parámetro 'nombre'\n",
    "        for producto in self.inventario:  # bucle for para que itere dentro del inventario\n",
    "            if producto[\"nombre\"].lower() == nombre.lower():  # otra vez programación defensiva con el condicional if\n",
    "                print(f\"Producto encontrado: {nombre}\") # muestra el producto que se ha encontrado\n",
    "                print(f\"Nombre: {producto['nombre']}, Precio: ${producto['precio']}, Cantidad: {producto['cantidad']}\") # muestra todos los valores de ese prodcuto\n",
    "                return # paramos bucle\n",
    "        else:\n",
    "            print(f\"El producto '{nombre}' no se encuentra en el inventario.\") # un print por si no está en el inventario, podría ahorrarme el else pero asi lo veo más claro       \n",
    "                 \n",
    "    def actualizar_stock(self, nombre, cantidad): # funcion con el pasillito y los parámetros indicados\n",
    "\n",
    "        for producto in self.inventario: # iteramos en el inventario\n",
    "\n",
    "            if producto[\"nombre\"].lower() == nombre.lower(): #primer condicional para buscar producto\n",
    "            \n",
    "                producto['cantidad'] += cantidad # aqui añadimos la cantidad nueva \n",
    "                if cantidad >= 0: # si la cantidad es mayor o igual a cero se agrega\n",
    "                    print(f\"Se agregaron {cantidad} unidades de {producto[\"nombre\"]}\")\n",
    "                else: # en caso contrario se quita\n",
    "                    print(f\"Se quitaron {(cantidad)} unidades de {producto[\"nombre\"]}\") # mensaje indicando que hemos quitado\n",
    "                print(f\"Nuevo stock: {producto[\"cantidad\"]}\") # mensaje indicando el nuevo stock de ese producto\n",
    "                return # stop\n",
    "    \n",
    "        # si llegamos aquí, el producto no está\n",
    "        print(f\"El producto {nombre}, no existe en el inventario.\")\n",
    "    \n",
    "    def eliminar_producto(self, nombre):\n",
    "    \n",
    "        for i, producto in enumerate(self.inventario):  # iteramos\n",
    "            if producto[\"nombre\"].lower() == nombre.lower(): # llamamos al producto\n",
    "                producto_eliminado = self.inventario.pop(i)  # metemos aqui la variable para que elimine el producto si lo encuentra\n",
    "                print(f\"El producto {prodcuto_eliminado} se ha eliminado\")\n",
    "                return\n",
    "\n",
    "        print (f\"No se encuentra el producto {nombre} en el inventario\") # en caso de que lo encuentre\n",
    "\n",
    "    def calcular_valor_inventario(self):\n",
    "        \n",
    "        valor_total = 0.0 # marco dentro del método (antes del condicional) el valor total a un float 0.0\n",
    "        \n",
    "        for producto in self.inventario: # itero en el inventario\n",
    "            valor_producto = producto[\"precio\"] * producto[\"cantidad\"] # hago el calculo dentro de una variable valor_producto\n",
    "            valor_total += valor_producto # sumo el valor_producto al valor_total\n",
    "        \n",
    "        print(f\"VALOR TOTAL DEL INVENTARIO: {valor_total} EUR\") # muestro el valor total del inventario\n",
    "        return valor_total # stop método y devolución del valor_total\n",
    "      \n",
    "\n",
    "    \n",
    "\n"
   ]
  },
  {
   "cell_type": "code",
   "execution_count": 7,
   "id": "6cd529b3",
   "metadata": {},
   "outputs": [],
   "source": [
    "# Creo una instancia de TiendaOnline\n",
    "tienda = TiendaOnline()\n"
   ]
  },
  {
   "cell_type": "code",
   "execution_count": 8,
   "id": "d7fd73db",
   "metadata": {},
   "outputs": [
    {
     "data": {
      "text/plain": [
       "[]"
      ]
     },
     "execution_count": 8,
     "metadata": {},
     "output_type": "execute_result"
    }
   ],
   "source": [
    "tienda.inventario"
   ]
  },
  {
   "cell_type": "code",
   "execution_count": 25,
   "id": "74f3f38a",
   "metadata": {},
   "outputs": [
    {
     "data": {
      "text/plain": [
       "0.0"
      ]
     },
     "execution_count": 25,
     "metadata": {},
     "output_type": "execute_result"
    }
   ],
   "source": [
    "tienda.ventas_totales "
   ]
  },
  {
   "cell_type": "code",
   "execution_count": 26,
   "id": "db1f7120",
   "metadata": {},
   "outputs": [
    {
     "data": {
      "text/plain": [
       "{'inventario': [], 'producto': [{}], 'ventas_totales': 0.0}"
      ]
     },
     "execution_count": 26,
     "metadata": {},
     "output_type": "execute_result"
    }
   ],
   "source": [
    "tienda.__dict__  # accedo a los atributos a ver si están correctos los valores iniciales"
   ]
  },
  {
   "cell_type": "code",
   "execution_count": 27,
   "id": "7bfe35da",
   "metadata": {},
   "outputs": [
    {
     "name": "stdout",
     "output_type": "stream",
     "text": [
      "[{'nombre': 'Tenedor', 'precio': 1.5, 'cantidad': 20}]\n"
     ]
    }
   ],
   "source": [
    "# pruebo si se pueden agregar productos al inventario creando un diccionario\n",
    "\n",
    "producto_nuevo = {\"nombre\" : \"Tenedor\", \"precio\" : 1.5, \"cantidad\" : 20}\n",
    "\n",
    "tienda.inventario.append(producto_nuevo)\n",
    "\n",
    "print(tienda.inventario)\n",
    "\n",
    "\n",
    "# de momento esto funciona!"
   ]
  },
  {
   "cell_type": "code",
   "execution_count": 9,
   "id": "7f79e7fe",
   "metadata": {},
   "outputs": [
    {
     "name": "stdout",
     "output_type": "stream",
     "text": [
      "Producto 'tenedor' agregado al inventario\n"
     ]
    }
   ],
   "source": [
    "# pruebo la estructura de la funcion agregar_productos\n",
    "\n",
    "tienda.agregar_producto(\"tenedor\",1.6,21)"
   ]
  },
  {
   "cell_type": "code",
   "execution_count": 29,
   "id": "3eee4add",
   "metadata": {},
   "outputs": [
    {
     "data": {
      "text/plain": [
       "[{'nombre': 'Tenedor', 'precio': 1.5, 'cantidad': 41}]"
      ]
     },
     "execution_count": 29,
     "metadata": {},
     "output_type": "execute_result"
    }
   ],
   "source": [
    "tienda.inventario\n",
    "\n",
    "# de momento me actualiza el producto que ya tengo con la nueva cantidad añadida (el precio no cambia)"
   ]
  },
  {
   "cell_type": "code",
   "execution_count": 30,
   "id": "ecc72adc",
   "metadata": {},
   "outputs": [
    {
     "name": "stdout",
     "output_type": "stream",
     "text": [
      "Producto 'patata' agregado al inventario\n"
     ]
    },
    {
     "data": {
      "text/plain": [
       "[{'nombre': 'Tenedor', 'precio': 1.5, 'cantidad': 41},\n",
       " {'nombre': 'patata', 'precio': 2.5, 'cantidad': 5}]"
      ]
     },
     "execution_count": 30,
     "metadata": {},
     "output_type": "execute_result"
    }
   ],
   "source": [
    "# pruebo con un nuevo producto\n",
    "\n",
    "tienda.agregar_producto(\"patata\", 2.5, 5)  # por qué me sale el doble de la cantidad que pongo?????\n",
    "\n",
    "tienda.inventario \n",
    "\n"
   ]
  },
  {
   "cell_type": "code",
   "execution_count": 10,
   "id": "7a6f23ec",
   "metadata": {},
   "outputs": [],
   "source": [
    "def agregar_producto(self, nombre, precio, cantidad):\n",
    "\n",
    "        for producto in self.inventario: # busco el producto en el inventario con bucle for\n",
    "            if producto['nombre'].lower() == nombre.lower(): # un poquito de programación defensiva para mayusculas y minusculas!\n",
    "                 producto['cantidad'] += cantidad  # si el producto está que añada la cantidad 'x'\n",
    "                 print(f\"Producto '{nombre}' actualizado. Cantidad nueva: {producto['cantidad']}\") # aqui muestra el producto actualizado \n",
    "                 return  # un return para que se detenga aqui y podamos acceder al valor después \n",
    "            \n",
    "        else: # si no está en el inventario\n",
    "            nuevo_producto = {'nombre': nombre,'precio': precio,'cantidad': cantidad} # añado la variable nuevo_producto con el diccionario génerico\n",
    "            self.inventario.append(nuevo_producto) # añadimos el producto nuevo al inventario\n",
    "            print(f\"Producto '{nombre}' agregado al inventario\") # muestra el producto añadido\n",
    "\n",
    "# era un error de indentación del condicional. el else tiene que estar 'fuera' del bucle for para que no siga iterando dentro!\n",
    "# solución 1 del error"
   ]
  },
  {
   "cell_type": "code",
   "execution_count": 11,
   "id": "42c8db95",
   "metadata": {},
   "outputs": [],
   "source": [
    "def agregar_producto(self, nombre, precio, cantidad):\n",
    "\n",
    "        for producto in self.inventario: # busco el producto en el inventario con bucle for\n",
    "            if producto['nombre'].lower() == nombre.lower(): # un poquito de programación defensiva para mayusculas y minusculas!\n",
    "                 producto['cantidad'] += cantidad  # si el producto está que añada la cantidad 'x'\n",
    "                 print(f\"Producto '{nombre}' actualizado. Cantidad nueva: {producto['cantidad']}\") # aqui muestra el producto actualizado \n",
    "                 return  # un return para que se detenga aqui y podamos acceder al valor después \n",
    "            \n",
    "            else: # si no está en el inventario\n",
    "                nuevo_producto = {'nombre': nombre,'precio': precio,'cantidad': cantidad} # añado la variable nuevo_producto con el diccionario génerico\n",
    "                self.inventario.append(nuevo_producto) # añadimos el producto nuevo al inventario\n",
    "                print(f\"Producto '{nombre}' agregado al inventario\") # muestra el producto añadido\n",
    "                return\n",
    "            "
   ]
  },
  {
   "cell_type": "code",
   "execution_count": 31,
   "id": "43430faf",
   "metadata": {},
   "outputs": [
    {
     "name": "stdout",
     "output_type": "stream",
     "text": [
      "Producto 'navajas' agregado al inventario\n"
     ]
    },
    {
     "data": {
      "text/plain": [
       "[{'nombre': 'Tenedor', 'precio': 1.5, 'cantidad': 41},\n",
       " {'nombre': 'patata', 'precio': 2.5, 'cantidad': 5},\n",
       " {'nombre': 'navajas', 'precio': 2.5, 'cantidad': 5}]"
      ]
     },
     "execution_count": 31,
     "metadata": {},
     "output_type": "execute_result"
    }
   ],
   "source": [
    "# pruebo otra vez con un nuevo producto con la estructura return con el else dentro del for\n",
    "\n",
    "tienda.agregar_producto(\"navajas\", 2.5, 5)  # por qué me sale el doble de la cantidad que pongo?????\n",
    "\n",
    "tienda.inventario \n",
    "\n",
    "# ya no me agrega el doble de cantidad. esta sería la solución 2 al mismo error, pero me gusta más la solución 1"
   ]
  },
  {
   "cell_type": "code",
   "execution_count": 13,
   "id": "fb7e47e5",
   "metadata": {},
   "outputs": [
    {
     "name": "stdout",
     "output_type": "stream",
     "text": [
      "Nombre: Tenedor, Precio: 1.5 EUR, Cantidad: 41\n",
      "Nombre: patata, Precio: 2.5 EUR, Cantidad: 5\n",
      "Nombre: navajas, Precio: 2.5 EUR, Cantidad: 5\n"
     ]
    }
   ],
   "source": [
    "# compruebo la funcion ver_inventario\n",
    "\n",
    "tienda.ver_inventario()\n",
    "\n",
    "# FUNCIONA!!!"
   ]
  },
  {
   "cell_type": "code",
   "execution_count": 14,
   "id": "acfb3cc1",
   "metadata": {},
   "outputs": [],
   "source": [
    "# creo la función buscar_producto\n",
    "\n",
    "def buscar_producto(self,nombre): # añado el pasillito (self) y el parámetro 'nombre'\n",
    "\n",
    "    for producto in self.inventario:  # bucle for para que itere dentro del inventario\n",
    "        if producto[\"nombre\"].lower() == nombre.lower():  # otra vez programación defensiva con el condicional if\n",
    "            print(f\"Producto encontrado:{producto}\") # muestra el producto que se ha encontrado\n",
    "            print(f\"Nombre: {producto['nombre']}, Precio: ${producto['precio']}, Cantidad: {producto['cantidad']}\") # muestra todos los valores de ese prodcuto\n",
    "            return # paramos bucle\n",
    "    else:\n",
    "        print(f\"El producto '{nombre}' no se encuentra en el inventario.\")   # un print por si no está en el inventario, podría ahorrarme el else pero asi lo veo más claro      "
   ]
  },
  {
   "cell_type": "code",
   "execution_count": 32,
   "id": "0137a794",
   "metadata": {},
   "outputs": [
    {
     "name": "stdout",
     "output_type": "stream",
     "text": [
      "Producto encontrado: Patata\n",
      "Nombre: patata, Precio: $2.5, Cantidad: 5\n"
     ]
    }
   ],
   "source": [
    "# probamos la funcion buscar_producto\n",
    "\n",
    "tienda.buscar_producto(\"Patata\")\n",
    "\n",
    "# me daba error a priori por mala indentación (again xD) pero ya está corregido y funcionando!!"
   ]
  },
  {
   "cell_type": "code",
   "execution_count": 16,
   "id": "0e41310c",
   "metadata": {},
   "outputs": [
    {
     "ename": "IndentationError",
     "evalue": "unexpected indent (4020227533.py, line 2)",
     "output_type": "error",
     "traceback": [
      "\u001b[1;36m  Cell \u001b[1;32mIn[16], line 2\u001b[1;36m\u001b[0m\n\u001b[1;33m    producto[\"cantidad\"] += cantidad # con el parámetro cantidad sumamos\u001b[0m\n\u001b[1;37m    ^\u001b[0m\n\u001b[1;31mIndentationError\u001b[0m\u001b[1;31m:\u001b[0m unexpected indent\n"
     ]
    }
   ],
   "source": [
    "# necesito añadir la cantidad del producto (funcion actualizar_stock)\n",
    "  producto[\"cantidad\"] += cantidad # con el parámetro cantidad sumamos "
   ]
  },
  {
   "cell_type": "code",
   "execution_count": null,
   "id": "6df5d169",
   "metadata": {},
   "outputs": [
    {
     "ename": "NameError",
     "evalue": "name 'cantidad' is not defined",
     "output_type": "error",
     "traceback": [
      "\u001b[1;31m---------------------------------------------------------------------------\u001b[0m",
      "\u001b[1;31mNameError\u001b[0m                                 Traceback (most recent call last)",
      "Cell \u001b[1;32mIn[517], line 4\u001b[0m\n\u001b[0;32m      1\u001b[0m \u001b[38;5;66;03m# tengo que actualizar la cantidad y que me la muestre\u001b[39;00m\n\u001b[0;32m      2\u001b[0m \u001b[38;5;66;03m# pienso en un if \u001b[39;00m\n\u001b[1;32m----> 4\u001b[0m \u001b[38;5;28;01mif\u001b[39;00m cantidad \u001b[38;5;241m>\u001b[39m\u001b[38;5;241m=\u001b[39m\u001b[38;5;241m0\u001b[39m:\n\u001b[0;32m      5\u001b[0m     \u001b[38;5;28mprint\u001b[39m(\u001b[38;5;124m\"\u001b[39m\u001b[38;5;124mse añadió x cantidad....\u001b[39m\u001b[38;5;124m\"\u001b[39m)\n\u001b[0;32m      7\u001b[0m \u001b[38;5;28;01melse\u001b[39;00m: \n",
      "\u001b[1;31mNameError\u001b[0m: name 'cantidad' is not defined"
     ]
    }
   ],
   "source": [
    "# tengo que actualizar la cantidad y que me la muestre\n",
    "# pienso en un if \n",
    "\n",
    "if cantidad >=0:\n",
    "    print(\"se añadió x cantidad....\")\n",
    "\n",
    "else: \n",
    "    print(\"se retiró x cantidad...\")\n",
    "print(\"nuevo stock\")  # este print mostraría el stock nuevo ya actualizado, lo pondria indentado fuera del else "
   ]
  },
  {
   "cell_type": "code",
   "execution_count": null,
   "id": "769f26ab",
   "metadata": {},
   "outputs": [],
   "source": [
    "# la función tiene que decirnos que no está en el inventario si no la encuentra\n",
    "# he pensado en booleanos \n",
    "\n",
    "# creo una variable con el valor TRUE\n",
    "\n",
    "encontrado = True\n",
    "\n",
    "# usar condicional para comprobar booleano?\n",
    "\n",
    "if not encontrado:\n",
    "\n",
    "    print(\"El producto no está en el inventario\")\n",
    "\n",
    "# creo que tendria que ponerla indentada con el for (a base de errores anteriores)"
   ]
  },
  {
   "cell_type": "code",
   "execution_count": null,
   "id": "3d0d0ed1",
   "metadata": {},
   "outputs": [],
   "source": [
    "# no soy capaz de insertar el booleano en esto así que voy a tirar de sencillez\n",
    "# fuera del bucle pongo un print diciendo que el producto no está y listo.\n",
    "\n",
    "print(\"el producto no está\") # algo asi pero indentado fuera (a la altura del for)"
   ]
  },
  {
   "cell_type": "code",
   "execution_count": null,
   "id": "4cb6a1f8",
   "metadata": {},
   "outputs": [],
   "source": [
    "# creo la funcion actualizar_stock\n",
    "\n",
    "def actualizar_stock(self, nombre, cantidad): # funcion con el pasillito y los parámetros indicados\n",
    "\n",
    "        for producto in self.inventario: # iteramos en el inventario\n",
    "\n",
    "            if producto[\"nombre\"].lower() == nombre.lower(): #primer condicional para buscar producto\n",
    "            \n",
    "                producto['cantidad'] += cantidad # aqui añadimos la cantidad nueva \n",
    "                if cantidad >= 0: # si la cantidad es mayor o igual a cero se agrega\n",
    "                    print(f\"Se agregaron {cantidad} unidades de {producto[\"nombre\"]}\")\n",
    "                else: # en caso contrario se quita\n",
    "                    print(f\"Se quitaron {(cantidad)} unidades de {producto[\"nombre\"]}\") # mensaje indicando que hemos quitado\n",
    "                print(f\"Nuevo stock: {producto[\"cantidad\"]}\") # mensaje indicando el nuevo stock de ese producto\n",
    "                return # stop\n",
    "    \n",
    "        # si llegamos aquí, el producto no está\n",
    "        print(f\"El producto {nombre}, no existe en el inventario.\")"
   ]
  },
  {
   "cell_type": "code",
   "execution_count": 33,
   "id": "d76e040c",
   "metadata": {},
   "outputs": [
    {
     "name": "stdout",
     "output_type": "stream",
     "text": [
      "[{'nombre': 'Tenedor', 'precio': 1.5, 'cantidad': 41}, {'nombre': 'patata', 'precio': 2.5, 'cantidad': 5}, {'nombre': 'navajas', 'precio': 2.5, 'cantidad': 5}]\n"
     ]
    }
   ],
   "source": [
    "print(tienda.inventario)"
   ]
  },
  {
   "cell_type": "code",
   "execution_count": null,
   "id": "3b7dfbdc",
   "metadata": {},
   "outputs": [
    {
     "name": "stdout",
     "output_type": "stream",
     "text": [
      "El producto fuego, no existe en el inventario.\n",
      "Se agregaron 7 unidades de patata\n",
      "Nuevo stock: 12\n"
     ]
    }
   ],
   "source": [
    "# probamos la función actualizar_stock\n",
    "\n",
    "tienda.actualizar_stock(\"fuego\",3)\n",
    "\n",
    "# al principio otra vez error de indentación pero ya solucionado!\n",
    "\n",
    "tienda.actualizar_stock(\"patata\", 7)"
   ]
  },
  {
   "cell_type": "code",
   "execution_count": null,
   "id": "50c4d877",
   "metadata": {},
   "outputs": [
    {
     "ename": "IndentationError",
     "evalue": "expected an indented block after 'for' statement on line 6 (1897755358.py, line 12)",
     "output_type": "error",
     "traceback": [
      "\u001b[1;36m  Cell \u001b[1;32mIn[594], line 12\u001b[1;36m\u001b[0m\n\u001b[1;33m    producto_eliminado = self.inventario.pop(i)\u001b[0m\n\u001b[1;37m    ^\u001b[0m\n\u001b[1;31mIndentationError\u001b[0m\u001b[1;31m:\u001b[0m expected an indented block after 'for' statement on line 6\n"
     ]
    }
   ],
   "source": [
    "# ahora hay que implementar un funcion para eliminar productos\n",
    "# si queremos eliminar un producto en concreto pienso que es buena idea el enumerate que vimos en clase para crear 'indice'\n",
    "# habría que aplicar el enumerate en el inventario ---- > enumerate(self.inventario)\n",
    "# entonces en el bucle tengo que meter un ¿parametro? que se asocie a la posición del elemento (¿key?)\n",
    "\n",
    "for i, producto in enumerate(self.inventario):\n",
    "\n",
    "    # i ---> posición (indice)\n",
    "\n",
    "# luego puedo meter el pop en el bucle para que elimine el elemento en la posición 'i'\n",
    "\n",
    "producto_eliminado = self.inventario.pop(i)\n",
    "\n",
    "# si no está en el inventario hacer un print indentando fuera del bucle igual que en la función anterior\n",
    "\n"
   ]
  },
  {
   "cell_type": "code",
   "execution_count": 20,
   "id": "848a0a13",
   "metadata": {},
   "outputs": [],
   "source": [
    "def eliminar_producto(self,nombre):\n",
    "    \n",
    "    for i, producto in enumerate(self.inventario):  # iteramos\n",
    "        if producto[\"nombre\"].lower() == nombre.lower(): # llamamos al producto\n",
    "            producto_eliminado = self.inventario.pop(i)  # metemos aqui la variable para que elimine el producto si lo encuentra\n",
    "            print(f\"El producto {producto_eliminado} se ha eliminado\")\n",
    "            return\n",
    "    print (f\"No se encuentra el producto {nombre} en el inventario\") # en caso de que lo encuentre"
   ]
  },
  {
   "cell_type": "code",
   "execution_count": 34,
   "id": "b47eb10d",
   "metadata": {},
   "outputs": [
    {
     "ename": "TypeError",
     "evalue": "'str' object cannot be interpreted as an integer",
     "output_type": "error",
     "traceback": [
      "\u001b[1;31m---------------------------------------------------------------------------\u001b[0m",
      "\u001b[1;31mTypeError\u001b[0m                                 Traceback (most recent call last)",
      "Cell \u001b[1;32mIn[34], line 1\u001b[0m\n\u001b[1;32m----> 1\u001b[0m tienda\u001b[38;5;241m.\u001b[39meliminar_producto(\u001b[38;5;124m\"\u001b[39m\u001b[38;5;124mpatata\u001b[39m\u001b[38;5;124m\"\u001b[39m)\n",
      "Cell \u001b[1;32mIn[22], line 60\u001b[0m, in \u001b[0;36mTiendaOnline.eliminar_producto\u001b[1;34m(self, nombre)\u001b[0m\n\u001b[0;32m     58\u001b[0m \u001b[38;5;28;01mfor\u001b[39;00m producto \u001b[38;5;129;01min\u001b[39;00m \u001b[38;5;28mself\u001b[39m\u001b[38;5;241m.\u001b[39minventario:  \u001b[38;5;66;03m# iteramos\u001b[39;00m\n\u001b[0;32m     59\u001b[0m     \u001b[38;5;28;01mif\u001b[39;00m producto[\u001b[38;5;124m\"\u001b[39m\u001b[38;5;124mnombre\u001b[39m\u001b[38;5;124m\"\u001b[39m]\u001b[38;5;241m.\u001b[39mlower() \u001b[38;5;241m==\u001b[39m nombre\u001b[38;5;241m.\u001b[39mlower(): \u001b[38;5;66;03m# llamamos al producto\u001b[39;00m\n\u001b[1;32m---> 60\u001b[0m         producto_eliminado \u001b[38;5;241m=\u001b[39m \u001b[38;5;28mself\u001b[39m\u001b[38;5;241m.\u001b[39minventario\u001b[38;5;241m.\u001b[39mpop(nombre)  \u001b[38;5;66;03m# metemos aqui la variable para que elimine el producto si lo encuentra\u001b[39;00m\n\u001b[0;32m     61\u001b[0m         \u001b[38;5;28mprint\u001b[39m(\u001b[38;5;124mf\u001b[39m\u001b[38;5;124m\"\u001b[39m\u001b[38;5;124mEl producto \u001b[39m\u001b[38;5;132;01m{\u001b[39;00mprodcuto_eliminado\u001b[38;5;132;01m}\u001b[39;00m\u001b[38;5;124m se ha eliminado\u001b[39m\u001b[38;5;124m\"\u001b[39m)\n\u001b[0;32m     62\u001b[0m         \u001b[38;5;28;01mreturn\u001b[39;00m\n",
      "\u001b[1;31mTypeError\u001b[0m: 'str' object cannot be interpreted as an integer"
     ]
    }
   ],
   "source": [
    "tienda.eliminar_producto(\"patata\")\n",
    "\n",
    "# la que estoy liando, no se si es por el kernel (pruebo en otro jupyter limpio)"
   ]
  },
  {
   "cell_type": "code",
   "execution_count": 17,
   "id": "a28c243f",
   "metadata": {},
   "outputs": [
    {
     "ename": "TypeError",
     "evalue": "'str' object cannot be interpreted as an integer",
     "output_type": "error",
     "traceback": [
      "\u001b[1;31m---------------------------------------------------------------------------\u001b[0m",
      "\u001b[1;31mTypeError\u001b[0m                                 Traceback (most recent call last)",
      "Cell \u001b[1;32mIn[17], line 1\u001b[0m\n\u001b[1;32m----> 1\u001b[0m tienda\u001b[38;5;241m.\u001b[39meliminar_producto(\u001b[38;5;124m\"\u001b[39m\u001b[38;5;124mtenedor\u001b[39m\u001b[38;5;124m\"\u001b[39m)\n",
      "Cell \u001b[1;32mIn[1], line 60\u001b[0m, in \u001b[0;36mTiendaOnline.eliminar_producto\u001b[1;34m(self, nombre)\u001b[0m\n\u001b[0;32m     58\u001b[0m \u001b[38;5;28;01mfor\u001b[39;00m producto \u001b[38;5;129;01min\u001b[39;00m \u001b[38;5;28mself\u001b[39m\u001b[38;5;241m.\u001b[39minventario:  \u001b[38;5;66;03m# iteramos\u001b[39;00m\n\u001b[0;32m     59\u001b[0m     \u001b[38;5;28;01mif\u001b[39;00m producto[\u001b[38;5;124m\"\u001b[39m\u001b[38;5;124mnombre\u001b[39m\u001b[38;5;124m\"\u001b[39m]\u001b[38;5;241m.\u001b[39mlower() \u001b[38;5;241m==\u001b[39m nombre\u001b[38;5;241m.\u001b[39mlower(): \u001b[38;5;66;03m# llamamos al producto\u001b[39;00m\n\u001b[1;32m---> 60\u001b[0m         producto_eliminado \u001b[38;5;241m=\u001b[39m \u001b[38;5;28mself\u001b[39m\u001b[38;5;241m.\u001b[39minventario\u001b[38;5;241m.\u001b[39mpop(nombre)  \u001b[38;5;66;03m# metemos aqui la variable para que elimine el producto si lo encuentra\u001b[39;00m\n\u001b[0;32m     61\u001b[0m         \u001b[38;5;28mprint\u001b[39m(\u001b[38;5;124mf\u001b[39m\u001b[38;5;124m\"\u001b[39m\u001b[38;5;124mEl producto \u001b[39m\u001b[38;5;132;01m{\u001b[39;00mprodcuto_eliminado\u001b[38;5;132;01m}\u001b[39;00m\u001b[38;5;124m se ha eliminado\u001b[39m\u001b[38;5;124m\"\u001b[39m)\n\u001b[0;32m     63\u001b[0m \u001b[38;5;28mprint\u001b[39m (\u001b[38;5;124mf\u001b[39m\u001b[38;5;124m\"\u001b[39m\u001b[38;5;124mNo se encuentra el producto \u001b[39m\u001b[38;5;132;01m{\u001b[39;00mnombre\u001b[38;5;132;01m}\u001b[39;00m\u001b[38;5;124m en el inventario\u001b[39m\u001b[38;5;124m\"\u001b[39m)\n",
      "\u001b[1;31mTypeError\u001b[0m: 'str' object cannot be interpreted as an integer"
     ]
    }
   ],
   "source": [
    "tienda.eliminar_producto(\"tenedor\")"
   ]
  },
  {
   "cell_type": "markdown",
   "id": "0f38b91b",
   "metadata": {},
   "source": [
    " bueno, estoy probando estos errores en otro jupyter y no me da error, aunque no se por qué exactamente. continuo con el ejercicio"
   ]
  },
  {
   "cell_type": "code",
   "execution_count": 1,
   "id": "ca73e073",
   "metadata": {},
   "outputs": [],
   "source": [
    "# ahora tenemos que crear otra funcion para calcular el valor total del inventario\n",
    "# usamos el bucle for para iterar en el inventario\n",
    "# habría que hacer una variable para el calculo del precio de cada producto * su cantidad\n",
    "# añadir el valor del producto al valor total\n",
    "# finalizar con un print que muestre ese valor total del inventario"
   ]
  },
  {
   "cell_type": "code",
   "execution_count": 3,
   "id": "624835c0",
   "metadata": {},
   "outputs": [],
   "source": [
    "     def calcular_valor_inventario(self):\n",
    "        \n",
    "        valor_total = 0.0 # marco dentro del método (antes del condicional) el valor total a un float 0.0\n",
    "        \n",
    "        for producto in self.inventario: # itero en el inventario\n",
    "            valor_producto = producto[\"precio\"] * producto[\"cantidad\"] # hago el calculo dentro de una variable valor_producto\n",
    "            valor_total += valor_producto # sumo el valor_producto al valor_total\n",
    "        \n",
    "        print(f\"VALOR TOTAL DEL INVENTARIO: {valor_total} EUR\") # muestro el valor total del inventario\n",
    "        return valor_total # stop método y devolución del valor_total"
   ]
  },
  {
   "cell_type": "code",
   "execution_count": 10,
   "id": "519a779d",
   "metadata": {},
   "outputs": [
    {
     "name": "stdout",
     "output_type": "stream",
     "text": [
      "VALOR TOTAL DEL INVENTARIO: 33.6 EUR\n"
     ]
    },
    {
     "data": {
      "text/plain": [
       "33.6"
      ]
     },
     "execution_count": 10,
     "metadata": {},
     "output_type": "execute_result"
    }
   ],
   "source": [
    "#probamos si funciona\n",
    "\n",
    "tienda.calcular_valor_inventario()"
   ]
  }
 ],
 "metadata": {
  "kernelspec": {
   "display_name": "base",
   "language": "python",
   "name": "python3"
  },
  "language_info": {
   "codemirror_mode": {
    "name": "ipython",
    "version": 3
   },
   "file_extension": ".py",
   "mimetype": "text/x-python",
   "name": "python",
   "nbconvert_exporter": "python",
   "pygments_lexer": "ipython3",
   "version": "3.12.7"
  }
 },
 "nbformat": 4,
 "nbformat_minor": 5
}
