{
 "cells": [
  {
   "cell_type": "markdown",
   "id": "a90caaf1",
   "metadata": {},
   "source": [
    "### Crear una clase llamada TiendaOnline que cumpla los siguientes requisitos:"
   ]
  },
  {
   "cell_type": "markdown",
   "id": "311bc57f",
   "metadata": {},
   "source": [
    "#### 1. La clase TiendaOnline debe tener los siguientes atributos:\n",
    "- Inventario (lista de diccionarios): Un atributo para almacenar los productos en el inventario.\n",
    "- Cada producto debe ser representado como un diccionario con las siguientes claves:\n",
    "  'nombre', 'precio', y 'cantidad'. Al principio deberá ser una lista vacía.\n",
    "- Ventas_totales (float): Un atributo para llevar un registro de las ventas totales de la tienda.\n",
    "  Inicializado con valor 0.\n",
    "\n",
    "### 2. La clase TiendaOnline debe tener los siguientes métodos:\n",
    "1. agregar_producto(self, nombre, precio, cantidad): Este método agrega un producto al\n",
    "inventario o actualiza su cantidad si ya existe. Debe recibir el nombre, precio y cantidad del producto\n",
    "como parámetros.\n",
    "- Itera a través del inventario y compara los nombres de los productos con el nombre\n",
    "proporcionado.\n",
    "- Si el producto ya existe, actualiza la cantidad.\n",
    "- Si no existe, agrega un nuevo producto al inventario.\n",
    "\n",
    "2. ver_inventario(self): Muestra el inventario de productos con sus detalles.\n",
    "- Utiliza un bucle for para recorrer el inventario.\n",
    "- Imprime los detalles (nombre, precio, cantidad) de cada producto.\n",
    "\n",
    "3. buscar_producto(self, nombre): Busca un producto en el inventario por nombre y muestra sus\n",
    "detalles si se encuentra. Debe recibir el nombre del producto como parámetro.\n",
    "- Utiliza un bucle for para recorrer el inventario.\n",
    "- Compara los nombres de los productos con el nombre proporcionado.\n",
    "- Si se encuentra el producto, imprime sus detalles.\n",
    "\n",
    "4. actualizar_stock(self, nombre, cantidad): Actualiza el stock de un producto en el\n",
    "inventario. Debe recibir el nombre del producto y la cantidad a agregar o quitar como parámetros.\n",
    "- Utiliza un bucle for para recorrer el inventario.\n",
    "- Busca el producto por nombre.\n",
    "- Actualiza la cantidad según la entrada del usuario.\n",
    "- Si el producto no esta en el inventario muestra un mensaje indicándolo.\n",
    "\n",
    "5. eliminar_producto(self, nombre): Elimina un producto del inventario por nombre. Debe\n",
    "recibir el nombre del producto como parámetro.\n",
    "- Utiliza un bucle for para recorrer el inventario.\n",
    "- Busca el producto por nombre.\n",
    "- Elimina el producto del inventario si existe.\n",
    "- Si el producto no esta en el inventario muestra un mensaje indicándolo.\n",
    "\n",
    "6. calcular_valor_inventario(self): Calcula y muestra el valor total del inventario.\n",
    "- Utiliza un bucle for para calcular el valor total del inventario.\n",
    "- Itera a través del inventario y suma el valor de cada producto (precio x cantidad). Es decir,\n",
    "calcula el valor total del inventario.\n"
   ]
  },
  {
   "cell_type": "code",
   "execution_count": 1,
   "id": "04cddcfd",
   "metadata": {},
   "outputs": [],
   "source": [
    "class TiendaOnline:  #  creo que la clase \n",
    "\n",
    "    def __init__(self): # constructor\n",
    "\n",
    "        self.inventory = [] # lista vacía para almacenar los productos (diccionario)\n",
    "        self.product = [{}] # lista vacía que contiene el diccionario (de momento vacía)\n",
    "        self.total_sales = 0.0  # parámetro que marca las ventas como un flotat (0.0 por defecto)\n",
    "    \n",
    "    def add_product(self, name, price, amount):\n",
    "\n",
    "        for product in self.inventory: # busco el product en el.inventory con bucle for\n",
    "            if product['name'].lower() == name.lower(): # un poquito de programación defensiva para mayusculas y minusculas!\n",
    "                 product['amount'] += amount  # si el product está que añada la amount 'x'\n",
    "                 print(f\"Product '{name}' updated. new amount: {product['amount']}\") # aqui muestra el product actualizado \n",
    "                 return  # un return para que se detenga aqui \n",
    "            \n",
    "        else: # si no está en el.inventory\n",
    "            new_product = {'name': name,'price': price,'amount': amount} # añado la variable new_product con el diccionario génerico\n",
    "            self.inventory.append(new_product) # añadimos el product nuevo al.inventory\n",
    "            print(f\"Product '{name}' added to the inventory\") # muestra el product añadido\n",
    "            return # paro el método\n",
    "\n",
    "    def view_inventory(self): \n",
    "\n",
    "        for product in self.inventory: # bucle que itera por el.inventory\n",
    "            print(f\"Name: {product['name']}, Price: {product['price']} EUR, Amount: {product['amount']}\") # lo muestra\n",
    "\n",
    "\n",
    "\n",
    "    def search_product(self,name): # añado el pasillito (self) y el parámetro 'name'\n",
    "        for product in self.inventory:  # bucle for para que itere dentro del.inventory\n",
    "            if product[\"name\"].lower() == name.lower():  # otra vez programación defensiva \n",
    "                print(f\"Product finded: {name}\") # muestra el product que se ha encontrado\n",
    "                print(f\"Name: {product['name']}, Price: ${product['price']}, amount: {product['amount']}\") # muestra todos los valores de ese prodcuto\n",
    "                return # stop\n",
    "        else:\n",
    "            print(f\"This product '{name}' is not in the inventory.\") # un print por si no está en el.inventory    \n",
    "                 \n",
    "    def update_stock(self, name, amount): # funcion con el pasillito y los parámetros indicados\n",
    "\n",
    "        for product in self.inventory: # iteramos en el.inventory\n",
    "\n",
    "            if product[\"name\"].lower() == name.lower(): #primer condicional para buscar product\n",
    "            \n",
    "                product['amount'] += amount # aqui añadimos la amount nueva \n",
    "                if amount >= 0: # si la amount es mayor o igual a cero se agrega\n",
    "                    print(f\" {amount} units of {product[\"name\"]} were added\")\n",
    "                else: # en caso contrario se quita\n",
    "                    print(f\"{(amount)} units were remove from {product[\"name\"]}\") # mensaje indicando lo que hemos quitado\n",
    "                print(f\"New stock: {product[\"amount\"]}\") # mensaje indicando el nuevo stock de ese product\n",
    "                return # stop\n",
    "    \n",
    "        # si llegamos aquí, el product no está\n",
    "        print(f\" {name} does not exist in the inventory.\")\n",
    "    \n",
    "    def remove_product(self, name):\n",
    "    \n",
    "        for i, product in enumerate(self.inventory):  # iteramos utilizando la indexación de los pares clave-valor\n",
    "            if product[\"name\"].lower() == name.lower(): # llamamos al product\n",
    "                product_removed = self.inventory.pop(i)  # metemos aqui la variable para que elimine el product si lo encuentra\n",
    "                print(f\"This product {product_removed} has been remove\")\n",
    "                return\n",
    "\n",
    "        print (f\"Product {name} not found in inventory\") # en caso de que no lo encuentre\n",
    "\n",
    "    def calculate_inventory_value(self):\n",
    "        \n",
    "        total_value = 0.0 # marco dentro del método (antes del condicional) el valor total a un float 0.0\n",
    "        \n",
    "        for product in self.inventory: # itero en el.inventory\n",
    "            product_value = product[\"price\"] * product[\"amount\"] # hago el calculo dentro de una variable product_value\n",
    "            total_value += product_value # sumo el product_value al total_value\n",
    "        \n",
    "        print(f\"TOTAL INVENTORY VALUE: {total_value} EUR\") # muestro el valor total del.inventory\n",
    "        return  # stop método \n",
    "\n"
   ]
  },
  {
   "cell_type": "code",
   "execution_count": 2,
   "id": "20322249",
   "metadata": {},
   "outputs": [],
   "source": [
    "# Creo una instancia de TiendaOnline\n",
    "\n",
    "shop = TiendaOnline()"
   ]
  },
  {
   "cell_type": "code",
   "execution_count": 3,
   "id": "f2282aad",
   "metadata": {},
   "outputs": [
    {
     "data": {
      "text/plain": [
       "{'inventory': [], 'product': [{}], 'total_sales': 0.0}"
      ]
     },
     "execution_count": 3,
     "metadata": {},
     "output_type": "execute_result"
    }
   ],
   "source": [
    "# accedo a los atributos a ver si están correctos los valores iniciales\n",
    "\n",
    "shop.__dict__ \n"
   ]
  },
  {
   "cell_type": "code",
   "execution_count": 4,
   "id": "217a317c",
   "metadata": {},
   "outputs": [
    {
     "name": "stdout",
     "output_type": "stream",
     "text": [
      "[{'name': 'Tenedor', 'price': 1.5, 'amount': 20}]\n"
     ]
    }
   ],
   "source": [
    "# pruebo si se pueden agregar productos al inventario creando un diccionario\n",
    "\n",
    "new_product = {\"name\" : \"Tenedor\", \"price\" : 1.5, \"amount\" : 20}\n",
    "\n",
    "shop.inventory.append(new_product)\n",
    "\n",
    "print(shop.inventory)"
   ]
  },
  {
   "cell_type": "code",
   "execution_count": 5,
   "id": "8b53982a",
   "metadata": {},
   "outputs": [
    {
     "name": "stdout",
     "output_type": "stream",
     "text": [
      "Product 'cuchillo' added to the inventory\n",
      "[{'name': 'Tenedor', 'price': 1.5, 'amount': 20}, {'name': 'cuchillo', 'price': 1.6, 'amount': 13}]\n"
     ]
    }
   ],
   "source": [
    "# Método add_product\n",
    "\n",
    "shop.add_product(\"cuchillo\",1.6,13)\n",
    "\n",
    "print(shop.inventory)"
   ]
  },
  {
   "cell_type": "code",
   "execution_count": 6,
   "id": "4b4c47ef",
   "metadata": {},
   "outputs": [
    {
     "name": "stdout",
     "output_type": "stream",
     "text": [
      "Name: Tenedor, Price: 1.5 EUR, Amount: 20\n",
      "Name: cuchillo, Price: 1.6 EUR, Amount: 13\n"
     ]
    }
   ],
   "source": [
    "# Método view_inventory\n",
    "\n",
    "shop.view_inventory()"
   ]
  },
  {
   "cell_type": "code",
   "execution_count": 7,
   "id": "248677b5",
   "metadata": {},
   "outputs": [
    {
     "name": "stdout",
     "output_type": "stream",
     "text": [
      "Product finded: tenedor\n",
      "Name: Tenedor, Price: $1.5, amount: 20\n",
      "This product 'patata' is not in the inventory.\n"
     ]
    }
   ],
   "source": [
    "# Método search_product\n",
    "\n",
    "shop.search_product(\"tenedor\")\n",
    "\n",
    "shop.search_product(\"patata\")"
   ]
  },
  {
   "cell_type": "code",
   "execution_count": 9,
   "id": "20c8a4fb",
   "metadata": {},
   "outputs": [
    {
     "name": "stdout",
     "output_type": "stream",
     "text": [
      " navaja does not exist in the inventory.\n",
      " 4 units of Tenedor were added\n",
      "New stock: 24\n"
     ]
    }
   ],
   "source": [
    "# Método update_stock\n",
    "\n",
    "shop.update_stock(\"navaja\", 17)\n",
    "\n",
    "shop.update_stock(\"tenedor\", 4)"
   ]
  },
  {
   "cell_type": "code",
   "execution_count": 10,
   "id": "a2026716",
   "metadata": {},
   "outputs": [
    {
     "name": "stdout",
     "output_type": "stream",
     "text": [
      "This product {'name': 'Tenedor', 'price': 1.5, 'amount': 24} has been remove\n",
      "Product cuchara not found in inventory\n"
     ]
    }
   ],
   "source": [
    "# Método remove_product\n",
    "\n",
    "shop.remove_product(\"tenedor\")\n",
    "\n",
    "shop.remove_product(\"cuchara\")"
   ]
  },
  {
   "cell_type": "code",
   "execution_count": 12,
   "id": "1a43579d",
   "metadata": {},
   "outputs": [
    {
     "name": "stdout",
     "output_type": "stream",
     "text": [
      "TOTAL INVENTORY VALUE: 20.8 EUR\n"
     ]
    }
   ],
   "source": [
    "# Método calculate_inventory_value\n",
    "\n",
    "shop.calculate_inventory_value()"
   ]
  }
 ],
 "metadata": {
  "kernelspec": {
   "display_name": "base",
   "language": "python",
   "name": "python3"
  },
  "language_info": {
   "codemirror_mode": {
    "name": "ipython",
    "version": 3
   },
   "file_extension": ".py",
   "mimetype": "text/x-python",
   "name": "python",
   "nbconvert_exporter": "python",
   "pygments_lexer": "ipython3",
   "version": "3.12.7"
  }
 },
 "nbformat": 4,
 "nbformat_minor": 5
}
