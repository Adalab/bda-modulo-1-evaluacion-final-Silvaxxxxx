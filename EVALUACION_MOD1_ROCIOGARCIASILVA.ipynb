{
 "cells": [
  {
   "cell_type": "markdown",
   "id": "a90caaf1",
   "metadata": {},
   "source": [
    "### Crear una clase llamada TiendaOnline que cumpla los siguientes requisitos:"
   ]
  },
  {
   "cell_type": "markdown",
   "id": "311bc57f",
   "metadata": {},
   "source": [
    "#### 1. La clase TiendaOnline debe tener los siguientes atributos:\n",
    "- Inventario (lista de diccionarios): Un atributo para almacenar los productos en el inventario.\n",
    "- Cada producto debe ser representado como un diccionario con las siguientes claves:\n",
    "  'nombre', 'precio', y 'cantidad'. Al principio deberá ser una lista vacía.\n",
    "- Ventas_totales (float): Un atributo para llevar un registro de las ventas totales de la tienda.\n",
    "  Inicializado con valor 0.\n",
    "\n",
    "### 2. La clase TiendaOnline debe tener los siguientes métodos:\n",
    "1. agregar_producto(self, nombre, precio, cantidad): Este método agrega un producto al\n",
    "inventario o actualiza su cantidad si ya existe. Debe recibir el nombre, precio y cantidad del producto\n",
    "como parámetros.\n",
    "- Itera a través del inventario y compara los nombres de los productos con el nombre\n",
    "proporcionado.\n",
    "- Si el producto ya existe, actualiza la cantidad.\n",
    "- Si no existe, agrega un nuevo producto al inventario.\n",
    "\n",
    "2. ver_inventario(self): Muestra el inventario de productos con sus detalles.\n",
    "- Utiliza un bucle for para recorrer el inventario.\n",
    "- Imprime los detalles (nombre, precio, cantidad) de cada producto.\n",
    "\n",
    "3. buscar_producto(self, nombre): Busca un producto en el inventario por nombre y muestra sus\n",
    "detalles si se encuentra. Debe recibir el nombre del producto como parámetro.\n",
    "- Utiliza un bucle for para recorrer el inventario.\n",
    "- Compara los nombres de los productos con el nombre proporcionado.\n",
    "- Si se encuentra el producto, imprime sus detalles.\n",
    "\n",
    "4. actualizar_stock(self, nombre, cantidad): Actualiza el stock de un producto en el\n",
    "inventario. Debe recibir el nombre del producto y la cantidad a agregar o quitar como parámetros.\n",
    "- Utiliza un bucle for para recorrer el inventario.\n",
    "- Busca el producto por nombre.\n",
    "- Actualiza la cantidad según la entrada del usuario.\n",
    "- Si el producto no esta en el inventario muestra un mensaje indicándolo.\n",
    "\n",
    "5. eliminar_producto(self, nombre): Elimina un producto del inventario por nombre. Debe\n",
    "recibir el nombre del producto como parámetro.\n",
    "- Utiliza un bucle for para recorrer el inventario.\n",
    "- Busca el producto por nombre.\n",
    "- Elimina el producto del inventario si existe.\n",
    "- Si el producto no esta en el inventario muestra un mensaje indicándolo.\n",
    "\n",
    "6. calcular_valor_inventario(self): Calcula y muestra el valor total del inventario.\n",
    "- Utiliza un bucle for para calcular el valor total del inventario.\n",
    "- Itera a través del inventario y suma el valor de cada producto (precio x cantidad). Es decir,\n",
    "calcula el valor total del inventario.\n"
   ]
  },
  {
   "cell_type": "code",
   "execution_count": 23,
   "id": "04cddcfd",
   "metadata": {},
   "outputs": [],
   "source": [
    "class TiendaOnline:  #  creo que la clase \n",
    "\n",
    "    def __init__(self): # constructor\n",
    "\n",
    "        self.inventario = [] # lista vacía para almacenar los productos (diccionario)\n",
    "        self.producto = [{}] # lista vacía que contiene el diccionario (de momento vacía)\n",
    "        self.ventas_totales = 0.0  # parámetro que marca las ventas como un flotat (0.0 por defecto)\n",
    "    \n",
    "    def agregar_producto(self, nombre, precio, cantidad):\n",
    "\n",
    "        for producto in self.inventario: # busco el producto en el inventario con bucle for\n",
    "            if producto['nombre'].lower() == nombre.lower(): # un poquito de programación defensiva para mayusculas y minusculas!\n",
    "                 producto['cantidad'] += cantidad  # si el producto está que añada la cantidad 'x'\n",
    "                 print(f\"Producto '{nombre}' actualizado. Cantidad nueva: {producto['cantidad']}\") # aqui muestra el producto actualizado \n",
    "                 return  # un return para que se detenga aqui \n",
    "            \n",
    "        else: # si no está en el inventario\n",
    "            nuevo_producto = {'nombre': nombre,'precio': precio,'cantidad': cantidad} # añado la variable nuevo_producto con el diccionario génerico\n",
    "            self.inventario.append(nuevo_producto) # añadimos el producto nuevo al inventario\n",
    "            print(f\"Producto '{nombre}' agregado al inventario\") # muestra el producto añadido\n",
    "            return # paro el método\n",
    "\n",
    "    def ver_inventario(self): \n",
    "\n",
    "        for producto in self.inventario: # bucle que itera por el inventario\n",
    "            print(f\"Nombre: {producto['nombre']}, Precio: {producto['precio']} EUR, Cantidad: {producto['cantidad']}\") # lo muestra\n",
    "\n",
    "\n",
    "\n",
    "    def buscar_producto(self,nombre): # añado el pasillito (self) y el parámetro 'nombre'\n",
    "        for producto in self.inventario:  # bucle for para que itere dentro del inventario\n",
    "            if producto[\"nombre\"].lower() == nombre.lower():  # otra vez programación defensiva \n",
    "                print(f\"Producto encontrado: {nombre}\") # muestra el producto que se ha encontrado\n",
    "                print(f\"Nombre: {producto['nombre']}, Precio: ${producto['precio']}, Cantidad: {producto['cantidad']}\") # muestra todos los valores de ese prodcuto\n",
    "                return # stop\n",
    "        else:\n",
    "            print(f\"El producto '{nombre}' no se encuentra en el inventario.\") # un print por si no está en el inventario    \n",
    "                 \n",
    "    def actualizar_stock(self, nombre, cantidad): # funcion con el pasillito y los parámetros indicados\n",
    "\n",
    "        for producto in self.inventario: # iteramos en el inventario\n",
    "\n",
    "            if producto[\"nombre\"].lower() == nombre.lower(): #primer condicional para buscar producto\n",
    "            \n",
    "                producto['cantidad'] += cantidad # aqui añadimos la cantidad nueva \n",
    "                if cantidad >= 0: # si la cantidad es mayor o igual a cero se agrega\n",
    "                    print(f\"Se agregaron {cantidad} unidades de {producto[\"nombre\"]}\")\n",
    "                else: # en caso contrario se quita\n",
    "                    print(f\"Se quitaron {(cantidad)} unidades de {producto[\"nombre\"]}\") # mensaje indicando lo que hemos quitado\n",
    "                print(f\"Nuevo stock: {producto[\"cantidad\"]}\") # mensaje indicando el nuevo stock de ese producto\n",
    "                return # stop\n",
    "    \n",
    "        # si llegamos aquí, el producto no está\n",
    "        print(f\"El producto {nombre} no existe en el inventario.\")\n",
    "    \n",
    "    def eliminar_producto(self, nombre):\n",
    "    \n",
    "        for i, producto in enumerate(self.inventario):  # iteramos utilizando la indexación de los pares clave-valor\n",
    "            if producto[\"nombre\"].lower() == nombre.lower(): # llamamos al producto\n",
    "                producto_eliminado = self.inventario.pop(i)  # metemos aqui la variable para que elimine el producto si lo encuentra\n",
    "                print(f\"El producto {producto_eliminado} se ha eliminado\")\n",
    "                return\n",
    "\n",
    "        print (f\"No se encuentra el producto {nombre} en el inventario\") # en caso de que no lo encuentre\n",
    "\n",
    "    def calcular_valor_inventario(self):\n",
    "        \n",
    "        valor_total = 0.0 # marco dentro del método (antes del condicional) el valor total a un float 0.0\n",
    "        \n",
    "        for producto in self.inventario: # itero en el inventario\n",
    "            valor_producto = producto[\"precio\"] * producto[\"cantidad\"] # hago el calculo dentro de una variable valor_producto\n",
    "            valor_total += valor_producto # sumo el valor_producto al valor_total\n",
    "        \n",
    "        print(f\"VALOR TOTAL DEL INVENTARIO: {valor_total} EUR\") # muestro el valor total del inventario\n",
    "        return  # stop método \n",
    "      \n",
    "\n",
    "    \n",
    "\n"
   ]
  },
  {
   "cell_type": "code",
   "execution_count": 24,
   "id": "20322249",
   "metadata": {},
   "outputs": [],
   "source": [
    "# Creo una instancia de TiendaOnline\n",
    "\n",
    "tienda = TiendaOnline()"
   ]
  },
  {
   "cell_type": "code",
   "execution_count": 25,
   "id": "f2282aad",
   "metadata": {},
   "outputs": [
    {
     "data": {
      "text/plain": [
       "{'inventario': [], 'producto': [{}], 'ventas_totales': 0.0}"
      ]
     },
     "execution_count": 25,
     "metadata": {},
     "output_type": "execute_result"
    }
   ],
   "source": [
    "# accedo a los atributos a ver si están correctos los valores iniciales\n",
    "\n",
    "tienda.__dict__ \n"
   ]
  },
  {
   "cell_type": "code",
   "execution_count": 26,
   "id": "217a317c",
   "metadata": {},
   "outputs": [
    {
     "name": "stdout",
     "output_type": "stream",
     "text": [
      "[{'nombre': 'Tenedor', 'precio': 1.5, 'cantidad': 20}]\n"
     ]
    }
   ],
   "source": [
    "# pruebo si se pueden agregar productos al inventario creando un diccionario\n",
    "\n",
    "producto_nuevo = {\"nombre\" : \"Tenedor\", \"precio\" : 1.5, \"cantidad\" : 20}\n",
    "\n",
    "tienda.inventario.append(producto_nuevo)\n",
    "\n",
    "print(tienda.inventario)"
   ]
  },
  {
   "cell_type": "code",
   "execution_count": 27,
   "id": "8b53982a",
   "metadata": {},
   "outputs": [
    {
     "name": "stdout",
     "output_type": "stream",
     "text": [
      "Producto 'cuchillo' agregado al inventario\n",
      "[{'nombre': 'Tenedor', 'precio': 1.5, 'cantidad': 20}, {'nombre': 'cuchillo', 'precio': 1.6, 'cantidad': 13}]\n"
     ]
    }
   ],
   "source": [
    "# Método agregar_productos\n",
    "\n",
    "tienda.agregar_producto(\"cuchillo\",1.6,13)\n",
    "\n",
    "print(tienda.inventario)"
   ]
  },
  {
   "cell_type": "code",
   "execution_count": 28,
   "id": "4b4c47ef",
   "metadata": {},
   "outputs": [
    {
     "name": "stdout",
     "output_type": "stream",
     "text": [
      "Nombre: Tenedor, Precio: 1.5 EUR, Cantidad: 20\n",
      "Nombre: cuchillo, Precio: 1.6 EUR, Cantidad: 13\n"
     ]
    }
   ],
   "source": [
    "# Método ver_inventario\n",
    "\n",
    "tienda.ver_inventario()"
   ]
  },
  {
   "cell_type": "code",
   "execution_count": 29,
   "id": "248677b5",
   "metadata": {},
   "outputs": [
    {
     "name": "stdout",
     "output_type": "stream",
     "text": [
      "Producto encontrado: tenedor\n",
      "Nombre: Tenedor, Precio: $1.5, Cantidad: 20\n",
      "El producto 'patata' no se encuentra en el inventario.\n"
     ]
    }
   ],
   "source": [
    "# Método buscar_producto\n",
    "\n",
    "tienda.buscar_producto(\"tenedor\")\n",
    "\n",
    "tienda.buscar_producto(\"patata\")"
   ]
  },
  {
   "cell_type": "code",
   "execution_count": 30,
   "id": "20c8a4fb",
   "metadata": {},
   "outputs": [
    {
     "name": "stdout",
     "output_type": "stream",
     "text": [
      "El producto navaja no existe en el inventario.\n",
      "Se agregaron 4 unidades de Tenedor\n",
      "Nuevo stock: 24\n"
     ]
    }
   ],
   "source": [
    "# Método actualizar_stock\n",
    "\n",
    "tienda.actualizar_stock(\"navaja\", 17)\n",
    "\n",
    "tienda.actualizar_stock(\"tenedor\", 4)"
   ]
  },
  {
   "cell_type": "code",
   "execution_count": 31,
   "id": "a2026716",
   "metadata": {},
   "outputs": [
    {
     "name": "stdout",
     "output_type": "stream",
     "text": [
      "El producto {'nombre': 'Tenedor', 'precio': 1.5, 'cantidad': 24} se ha eliminado\n",
      "No se encuentra el producto cuchara en el inventario\n"
     ]
    }
   ],
   "source": [
    "# Método eliminar_producto\n",
    "\n",
    "tienda.eliminar_producto(\"tenedor\")\n",
    "\n",
    "tienda.eliminar_producto(\"cuchara\")"
   ]
  },
  {
   "cell_type": "code",
   "execution_count": 32,
   "id": "1a43579d",
   "metadata": {},
   "outputs": [
    {
     "name": "stdout",
     "output_type": "stream",
     "text": [
      "VALOR TOTAL DEL INVENTARIO: 20.8 EUR\n"
     ]
    }
   ],
   "source": [
    "# Método calcular_valor_inventario\n",
    "\n",
    "tienda.calcular_valor_inventario()"
   ]
  }
 ],
 "metadata": {
  "kernelspec": {
   "display_name": "base",
   "language": "python",
   "name": "python3"
  },
  "language_info": {
   "codemirror_mode": {
    "name": "ipython",
    "version": 3
   },
   "file_extension": ".py",
   "mimetype": "text/x-python",
   "name": "python",
   "nbconvert_exporter": "python",
   "pygments_lexer": "ipython3",
   "version": "3.12.7"
  }
 },
 "nbformat": 4,
 "nbformat_minor": 5
}
